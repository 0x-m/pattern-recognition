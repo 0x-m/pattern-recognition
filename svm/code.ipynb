{
  "nbformat": 4,
  "nbformat_minor": 0,
  "metadata": {
    "colab": {
      "name": "Untitled37.ipynb",
      "provenance": [],
      "collapsed_sections": []
    },
    "kernelspec": {
      "display_name": "Python 3",
      "name": "python3"
    }
  },
  "cells": [
    {
      "cell_type": "code",
      "metadata": {
        "colab": {
          "base_uri": "https://localhost:8080/"
        },
        "id": "cH4WP2MNw-Kx",
        "outputId": "cbfb4fd1-95bd-4856-9113-8f7369f8b5ea"
      },
      "source": [
        "import numpy as np\r\n",
        "import pandas as pd\r\n",
        "import matplotlib.pyplot as plt\r\n",
        "import time\r\n",
        "!pip install sklearn\r\n",
        "from sklearn import svm\r\n",
        "from sklearn.metrics import  accuracy_score"
      ],
      "execution_count": 1,
      "outputs": [
        {
          "output_type": "stream",
          "text": [
            "Requirement already satisfied: sklearn in /usr/local/lib/python3.6/dist-packages (0.0)\n",
            "Requirement already satisfied: scikit-learn in /usr/local/lib/python3.6/dist-packages (from sklearn) (0.22.2.post1)\n",
            "Requirement already satisfied: joblib>=0.11 in /usr/local/lib/python3.6/dist-packages (from scikit-learn->sklearn) (1.0.0)\n",
            "Requirement already satisfied: scipy>=0.17.0 in /usr/local/lib/python3.6/dist-packages (from scikit-learn->sklearn) (1.4.1)\n",
            "Requirement already satisfied: numpy>=1.11.0 in /usr/local/lib/python3.6/dist-packages (from scikit-learn->sklearn) (1.19.4)\n"
          ],
          "name": "stdout"
        }
      ]
    },
    {
      "cell_type": "code",
      "metadata": {
        "id": "m2v43pLG21to"
      },
      "source": [
        "#--------------------------------Load Dataset Function--------------------------\r\n",
        "#purposes:\r\n",
        "  #(1): reads samples from the .csv dataset\r\n",
        "  #(2): some discrte features have been stored in hot-one form so, \r\n",
        "    #they have been transformed into  associate number form\r\n",
        "  #(3): split dataset into two halvs 60% for training 40% for testing  \r\n",
        "  #outputs: x_train, y_train, x_test, y_test\r\n",
        "\r\n",
        "def load_dataset(normalized = False):\r\n",
        "\r\n",
        "  dataset = pd.read_csv(\"drive/MyDrive/retailMarketing.csv\")\r\n",
        "  N_samples = 1000\r\n",
        "\r\n",
        "  #---------------------Normalization----------------\r\n",
        "  if(normalized):\r\n",
        "    AS_min = dataset.AmountSpent.min()\r\n",
        "    AS_max = dataset.AmountSpent.max()\r\n",
        "    dataset.AmountSpent = (dataset.AmountSpent - AS_min)/(AS_max - AS_min)\r\n",
        "    sal_min = dataset.Salary.min();\r\n",
        "    sal_max = dataset.Salary.max()\r\n",
        "    dataset.Salary = (dataset.Salary - sal_min) / (sal_max - sal_min)\r\n",
        "  #--------------------------------------------------\r\n",
        "\r\n",
        "   #aux associate-table for mapping values of age(our target) to numbers\r\n",
        "  ages = {\"Young\": 0, \"Middle\": 1, \"Old\": 2}\r\n",
        "\r\n",
        "  prepared_dataset = np.zeros((1000,10)) #placeholder for 1000 samples each with 10 features\r\n",
        "\r\n",
        "  ##Preapare samples--------------------------------------\r\n",
        "  c = np.zeros((10,1))  #holds the current sample \r\n",
        "  for i in range(N_samples):\r\n",
        "    c[0] = dataset.AmountSpent[i] \r\n",
        "    #catalogs_6 -> 0, catalogs_12 -> 1, catalogs_18 -> 2, catalogs_24 -> 3\r\n",
        "    c[1] = np.argmax([dataset.Catalogs_6[i],dataset.Catalogs_12[i],dataset.Catalogs_18[i],dataset.Catalogs_24[i]])\r\n",
        "    c[2] = dataset.Children[i]\r\n",
        "    #Female -> 0, Male -> 1\r\n",
        "    c[3] = np.argmax([dataset.Gender_Female[i],dataset.Gender_Male[i]])\r\n",
        "    #Low -> 0, Medium -> 1, High -> 2\r\n",
        "    c[4] = np.argmax([dataset.History_Low[i],dataset.History_Medium[i],dataset.History_High[i]])\r\n",
        "    #Close -> 0, Far -> 1\r\n",
        "    c[5] = np.argmax([dataset.Location_Close[i],dataset.Location_Far[i]])\r\n",
        "    #Single -> 0, Married -> 1\r\n",
        "    c[6] = np.argmax([dataset.Married_Single[i],dataset.Married_Married[i]])\r\n",
        "    #Own -> 0, Rent -> 1\r\n",
        "    c[7] = np.argmax([dataset.OwnHome_Own[i],dataset.OwnHome_Rent[i]])\r\n",
        "    c[8] = dataset.Salary[i]\r\n",
        "    #Young -> 0, Middle -> 1, Old -> 2\r\n",
        "    c[9] = ages[dataset.Age[i]] #target!\r\n",
        "    prepared_dataset[i,:] = c.reshape(1,10) #put the sample into dataset\r\n",
        "\r\n",
        "  #----------------------------------------------------\r\n",
        "\r\n",
        "  #-------------------shuffling------------------------\r\n",
        "  np.random.shuffle(prepared_dataset)\r\n",
        "  #----------------------------------------------------\r\n",
        "\r\n",
        "  #-------------------splitting------------------------\r\n",
        "  #60% for training, 40% for testing\r\n",
        "\r\n",
        "  x_train = prepared_dataset[:600,:8]\r\n",
        "  y_train = prepared_dataset[:600,9]\r\n",
        "\r\n",
        "  x_test = prepared_dataset[600:1000,:8]\r\n",
        "  y_test = prepared_dataset[600:1000,9]\r\n",
        "\r\n",
        "  return x_train,y_train,x_test,y_test\r\n",
        "  #-----------------------------------------------------\r\n",
        "  \r\n",
        "  #----------------------------END OF Load Dataset------------------------------\r\n"
      ],
      "execution_count": 2,
      "outputs": []
    },
    {
      "cell_type": "code",
      "metadata": {
        "id": "NR6-qY9gH0js"
      },
      "source": [
        "#---------------Implementing one vs one SVM multiclass classifier---------------\r\n",
        "def ovo_prepare_dataset(x,y):\r\n",
        "  #create an array of 6 lists as follows:\r\n",
        "  #dataset[0],dataset[1] : x_train,y_train for young_middle\r\n",
        "  #dataset[2],dataset[3] : x_train,y_train for young_old\r\n",
        "  #dataset[4],dataset[5] : x_train_y_Train for middle_old\r\n",
        "  #target: 0 -> young, 1 -> middle, 2 -> old\r\n",
        "  dataset = [list() for i in range(6)] #array of 6 lists\r\n",
        "\r\n",
        "  N_samples = x.shape[0]\r\n",
        "  for i in range(N_samples):\r\n",
        "    c = y[i]\r\n",
        "    if(c == 0): #young\r\n",
        "      dataset[0].append(x[i]) #young_middle\r\n",
        "      dataset[1].append(c)\r\n",
        "      dataset[2].append(x[i])#young_old\r\n",
        "      dataset[3].append(c)\r\n",
        "    elif(c == 1): #middle\r\n",
        "      dataset[0].append(x[i]) #young_middle\r\n",
        "      dataset[1].append(c)\r\n",
        "      dataset[4].append(x[i]) #middle_old\r\n",
        "      dataset[5].append(c)\r\n",
        "    elif(c == 2): #old\r\n",
        "      dataset[2].append(x[i])#young_old\r\n",
        "      dataset[3].append(c)\r\n",
        "      dataset[4].append(x[i])#middle_old\r\n",
        "      dataset[5].append(c)\r\n",
        "\r\n",
        "  return dataset\r\n",
        "\r\n",
        "#-------------------------------------------------------------------------\r\n",
        "def ovo_SVC(training_set,test_set):\r\n",
        "  #young_middle\r\n",
        "  y_pred_0 = svm.SVC(kernel = 'rbf').fit(training_set[0],training_set[1]).predict(test_set) \r\n",
        "  #young_old\r\n",
        "  y_pred_1 = svm.SVC(kernel = 'rbf').fit(training_set[2],training_set[3]).predict(test_set)\r\n",
        "  #middle_old\r\n",
        "  y_pred_2 = svm.SVC(kernel = 'rbf').fit(training_set[4],training_set[5]).predict(test_set)\r\n",
        "  return y_pred_0,y_pred_1,y_pred_2\r\n",
        "#-------------------------------------------------------------------------\r\n",
        "  \r\n",
        "#----------------------Evaluating ovo SVC-------------------------\r\n",
        "def eval_ovo_SVC(y_pred_0,y_pred_1,y_pred_2,y_test,N_test_samples):\r\n",
        "  y_pred = np.zeros((N_test_samples,1))\r\n",
        "  for i in range(N_test_samples):\r\n",
        "      temp = np.zeros((3,1))\r\n",
        "      temp[int(y_pred_0[i])] +=1\r\n",
        "      temp[int(y_pred_1[i])] +=1\r\n",
        "      temp[int(y_pred_2[i])] +=1\r\n",
        "      y_pred[i] = np.argmax(temp)\r\n",
        "  acc = accuracy_score(y_pred,y_test)\r\n",
        "  return acc\r\n",
        " #-----------------------------------------------------------------\r\n",
        "\r\n",
        "#-------------------------------------------------------------------------------"
      ],
      "execution_count": 4,
      "outputs": []
    },
    {
      "cell_type": "code",
      "metadata": {
        "id": "dxeuy9IhCT58",
        "colab": {
          "base_uri": "https://localhost:8080/"
        },
        "outputId": "c96a24c9-c68c-4e7e-8171-42f14d40fe88"
      },
      "source": [
        "#-------------------------------PROBLEM #1--------------------------------------\r\n",
        "x_train,y_train,x_test,y_test = load_dataset(normalized=False) \r\n",
        "#----------------RBF kernel---------------------------\r\n",
        "t0 = time.clock()\r\n",
        "y_pred = svm.SVC(kernel='rbf').fit(x_train,y_train).predict(x_test)\r\n",
        "print(\"Kernel: RBF,C = 1.0 ->\",\"Acc: \",accuracy_score(y_pred,y_test) * 100,\"%\")\r\n",
        "t1 = time.clock() - t0\r\n",
        "print(\"(( elapsed time for RBF kernel,without data normalization: \",t1,\"))\")\r\n",
        "\r\n",
        "#-----------------------Polynomial kernel-------------\r\n",
        "t0 = time.clock()\r\n",
        "y_pred = svm.SVC(kernel='poly').fit(x_train,y_train).predict(x_test)\r\n",
        "print(\"Kernel: Poly,C = 1.0,degree = 3 ->\",\"Acc: \",accuracy_score(y_pred,y_test) * 100,\"%\")\r\n",
        "t1 = time.clock() - t0\r\n",
        "print(\"(( elapsed time for RBF kernel,without data normalization: \",t1,\"))\")\r\n",
        "#-----------------------------------------------------\r\n",
        "\r\n",
        "#-----------ovo SVM for multiclass classification-----\r\n",
        "#implemented manually\r\n",
        "x_train,y_train,x_test,y_test = load_dataset(False)\r\n",
        "train_data = ovo_prepare_dataset(x_train,y_train)\r\n",
        "preds = ovo_SVC(train_data,x_test)\r\n",
        "acc = eval_ovo_SVC(*preds,y_test,400) * 100\r\n",
        "print(\"\\none vs one SVM Implemented using 3 distinct SVM\\nAccuracy: \",acc,'%')\r\n",
        "print('\\n')\r\n",
        "\r\n",
        "#-------------------------------------------------------------------------------\r\n"
      ],
      "execution_count": 12,
      "outputs": [
        {
          "output_type": "stream",
          "text": [
            "Kernel: RBF,C = 1.0 -> Acc:  60.75000000000001 %\n",
            "(( elapsed time for RBF kernel,without data normalization:  0.02272799999999986 ))\n",
            "Kernel: Poly,C = 1.0,degree = 3 -> Acc:  56.25 %\n",
            "(( elapsed time for RBF kernel,without data normalization:  0.014479999999999826 ))\n",
            "\n",
            "one vs one SVM Implemented using 3 distinct SVM\n",
            "Accuracy:  67.0 %\n",
            "\n",
            "\n"
          ],
          "name": "stdout"
        }
      ]
    },
    {
      "cell_type": "code",
      "metadata": {
        "colab": {
          "base_uri": "https://localhost:8080/"
        },
        "id": "HEFR_zFpVfca",
        "outputId": "93f99358-74f6-4714-ad39-5420204a81e6"
      },
      "source": [
        "#-------------------------------PROBLEM #2--------------------------------------\r\n",
        "t0 = time.clock()\r\n",
        "y_pred = svm.SVC(C = 0.5,kernel='linear').fit(x_train,y_train).predict(x_test)\r\n",
        "print(\"Kernel: Linear,C = 1.0 ->\",\"Acc: \",accuracy_score(y_pred,y_test)*100,\"%\")\r\n",
        "t1 = time.clock() - t0\r\n",
        "print(\"(( elapsed time for Linear kernel,without data normalization: \",t1,\"))\")\r\n",
        "#-------------------------------------------------------------------------------"
      ],
      "execution_count": null,
      "outputs": [
        {
          "output_type": "stream",
          "text": [
            "Kernel: Linear,C = 1.0 -> Acc:  70.75 %\n",
            "(( elapsed time for Linear kernel,without data normalization:  71.12173700000005 ))\n"
          ],
          "name": "stdout"
        }
      ]
    },
    {
      "cell_type": "code",
      "metadata": {
        "colab": {
          "base_uri": "https://localhost:8080/"
        },
        "id": "wUPUnagvyZG1",
        "outputId": "6cf3f18e-3346-4d57-b43e-3ac8d21f93d8"
      },
      "source": [
        "#-------------------------------PROBLEM #3--------------------------------------\r\n",
        "x_train,y_train,x_test,y_test = load_dataset(normalized=True) \r\n",
        "#----------------RBF kernel---------------------------\r\n",
        "t0 = time.clock()\r\n",
        "y_pred = svm.SVC(kernel='rbf').fit(x_train,y_train).predict(x_test)\r\n",
        "print(\"Kernel: RBF,C = 1.0 ->\",\"Acc: \",accuracy_score(y_pred,y_test) * 100,\"%\")\r\n",
        "t1 = time.clock() - t0\r\n",
        "print(\"(( elapsed time for RBF kernel,with data normalization: \",t1,\"))\")\r\n",
        "\r\n",
        "#-----------------------Polynomial kernel-------------\r\n",
        "t0 = time.clock()\r\n",
        "y_pred = svm.SVC(kernel='poly').fit(x_train,y_train).predict(x_test)\r\n",
        "print(\"Kernel: Poly,C = 1.0,degree = 3 ->\",\"Acc: \",accuracy_score(y_pred,y_test) * 100,\"%\")\r\n",
        "t1 = time.clock() - t0\r\n",
        "print(\"(( elapsed time for RBF kernel,with data normalization: \",t1,\"))\")\r\n",
        "#-----------------------------------------------------\r\n",
        "\r\n",
        "#-----------------------Linear kernel------------------\r\n",
        "t0 = time.clock()\r\n",
        "y_pred = svm.SVC(C = 1,kernel='linear').fit(x_train,y_train).predict(x_test)\r\n",
        "print(\"Kernel: Linear,C = 1.0 ->\",\"Acc: \",accuracy_score(y_pred,y_test)*100,\"%\")\r\n",
        "t1 = time.clock() - t0\r\n",
        "print(\"(( elapsed time for Linear kernel,with data normalization: \",t1,\"))\")\r\n",
        "#-------------------------------------------------------\r\n",
        "\r\n",
        "#-------------------------------------------------------------------------------\r\n"
      ],
      "execution_count": null,
      "outputs": [
        {
          "output_type": "stream",
          "text": [
            "Kernel: RBF,C = 1.0 -> Acc:  66.0 %\n",
            "(( elapsed time for RBF kernel,with data normalization:  0.02422999999998865 ))\n",
            "Kernel: Poly,C = 1.0,degree = 3 -> Acc:  59.5 %\n",
            "(( elapsed time for RBF kernel,with data normalization:  0.016143000000056418 ))\n",
            "Kernel: Linear,C = 1.0 -> Acc:  71.25 %\n",
            "(( elapsed time for Linear kernel,with data normalization:  0.013956999999891195 ))\n"
          ],
          "name": "stdout"
        }
      ]
    },
    {
      "cell_type": "code",
      "metadata": {
        "colab": {
          "base_uri": "https://localhost:8080/"
        },
        "id": "DUvOxTmL3x6r",
        "outputId": "b0e5fce3-47b7-4978-ec80-4b7579341207"
      },
      "source": [
        "#------------------------------PROBLEM #4---------------------------------------\r\n",
        "x_train,y_train,x_test,y_test = load_dataset(normalized=True)\r\n",
        "y_pred = svm.SVC(C = 1,kernel='rbf').fit(x_train,y_train).predict(x_test)\r\n",
        "print(\"Kernel: RBF,C = 1.0,gamma = 0.001 ->\",\"Acc: \",accuracy_score(y_pred,y_test)*100,\"%\")\r\n",
        "\r\n",
        "y_pred = svm.SVC(C = 0.8,gamma = 0.01,kernel='rbf').fit(x_train,y_train).predict(x_test)\r\n",
        "print(\"Kernel: RBF,C = 0.8,gamma = 0.01 ->\",\"Acc: \",accuracy_score(y_pred,y_test) * 100,\"%\")\r\n",
        "\r\n",
        "#parameters adjusted based on results of problem 5 (!)\r\n",
        "y_pred = svm.SVC(C = 0.8,gamma = 0.09,kernel='rbf').fit(x_train,y_train).predict(x_test)\r\n",
        "print(\"Kernel: RBF,C = 0.8,gamma = 0.09 ->\",\"Acc: \",accuracy_score(y_pred,y_test) * 100,\"%\")\r\n",
        "\r\n",
        "#parameters adjusted based on results of problem 5 (!)\r\n",
        "y_pred = svm.SVC(C = 4.849999999999991,gamma = 0.2,kernel='rbf').fit(x_train,y_train).predict(x_test)\r\n",
        "print(\"Kernel: RBF,C = 4.849999999999991,gamma = 0.05 ->\",\"Acc: \",accuracy_score(y_pred,y_test) * 100,\"%\")\r\n",
        "\r\n",
        "y_pred = svm.SVC(C = 0.7,gamma = 0.00002,kernel='rbf').fit(x_train,y_train).predict(x_test)\r\n",
        "print(\"Kernel: RBF,C = 4.1,gamma = 0.1 ->\",\"Acc: \",accuracy_score(y_pred,y_test) * 100,\"%\")\r\n",
        "#-------------------------------------------------------------------------------"
      ],
      "execution_count": 16,
      "outputs": [
        {
          "output_type": "stream",
          "text": [
            "Kernel: RBF,C = 1.0,gamma = 0.001 -> Acc:  62.74999999999999 %\n",
            "Kernel: RBF,C = 0.8,gamma = 0.01 -> Acc:  49.0 %\n",
            "Kernel: RBF,C = 0.8,gamma = 0.09 -> Acc:  64.5 %\n",
            "Kernel: RBF,C = 4.849999999999991,gamma = 0.05 -> Acc:  67.25 %\n",
            "Kernel: RBF,C = 4.1,gamma = 0.1 -> Acc:  48.75 %\n"
          ],
          "name": "stdout"
        }
      ]
    },
    {
      "cell_type": "code",
      "metadata": {
        "colab": {
          "base_uri": "https://localhost:8080/"
        },
        "id": "KddfzHc4jbo2",
        "outputId": "5a303c73-3326-49eb-f839-8866ab098a05"
      },
      "source": [
        "best_c"
      ],
      "execution_count": null,
      "outputs": [
        {
          "output_type": "execute_result",
          "data": {
            "text/plain": [
              "2.549999999999999"
            ]
          },
          "metadata": {
            "tags": []
          },
          "execution_count": 170
        }
      ]
    },
    {
      "cell_type": "code",
      "metadata": {
        "colab": {
          "base_uri": "https://localhost:8080/",
          "height": 541
        },
        "id": "u5eOh3EZ-Pva",
        "outputId": "5b3edee1-de86-4284-d003-ead4b67bb992"
      },
      "source": [
        "#-----------------------------PROBLEM #5 ---------------------------------------\r\n",
        "x_vals = list()\r\n",
        "y_vals = list()\r\n",
        "c = 0.05\r\n",
        "step = 0.05\r\n",
        "while(c <= 5):\r\n",
        "  y_pred = svm.SVC(C = c,kernel = 'rbf').fit(x_train,y_train).predict(x_test)\r\n",
        "  acc = accuracy_score(y_test,y_pred)\r\n",
        "  x_vals.append(c)\r\n",
        "  y_vals.append(acc)\r\n",
        "  c += step\r\n",
        "plt.plot(x_vals,y_vals)\r\n",
        "plt.xlabel(\"C\")\r\n",
        "plt.ylabel(\"acc\")\r\n",
        "plt.show()\r\n",
        "\r\n",
        "c_i = np.argmax(np.array(y_vals))\r\n",
        "best_c = x_vals[c_i]\r\n",
        "g = 0.01\r\n",
        "step = 0.01\r\n",
        "x_vals.clear()\r\n",
        "y_vals.clear()\r\n",
        "while(g <= 1.5):\r\n",
        "  y_pred = svm.SVC(C = best_c,kernel = 'rbf',gamma = g).fit(x_train,y_train).predict(x_test)\r\n",
        "  acc = accuracy_score(y_test,y_pred)\r\n",
        "  x_vals.append(g)\r\n",
        "  y_vals.append(acc)\r\n",
        "  g += step\r\n",
        "\r\n",
        "plt.plot(x_vals,y_vals)\r\n",
        "plt.xlabel(\"gamma\")\r\n",
        "plt.ylabel(\"acc\")\r\n",
        "plt.show()\r\n",
        "#-------------------------------------------------------------------------------"
      ],
      "execution_count": null,
      "outputs": [
        {
          "output_type": "display_data",
          "data": {
            "image/png": "[encoded data removed]",
            "text/plain": [
              "<Figure size 432x288 with 1 Axes>"
            ]
          },
          "metadata": {
            "tags": [],
            "needs_background": "light"
          }
        },
        {
          "output_type": "display_data",
          "data": {
            "image/png": "[encoded data removed]",
            "text/plain": [
              "<Figure size 432x288 with 1 Axes>"
            ]
          },
          "metadata": {
            "tags": [],
            "needs_background": "light"
          }
        }
      ]
    },
    {
      "cell_type": "code",
      "metadata": {
        "colab": {
          "base_uri": "https://localhost:8080/"
        },
        "id": "IXtADDi821eb",
        "outputId": "4e9a7126-049d-4fbe-c8e8-59465a72c007"
      },
      "source": [
        "y_pred = svm.SVC(C = 4.85,gamma = 0.15,kernel='rbf').fit(x_train,y_train).predict(x_test)\r\n",
        "print(\"Kernel: RBF,C = 1.0 ->\",\"Acc: \",accuracy_score(y_pred,y_test) * 100,\"%\")"
      ],
      "execution_count": null,
      "outputs": [
        {
          "output_type": "stream",
          "text": [
            "Kernel: RBF,C = 1.0 -> Acc:  69.0 %\n"
          ],
          "name": "stdout"
        }
      ]
    },
    {
      "cell_type": "code",
      "metadata": {
        "colab": {
          "base_uri": "https://localhost:8080/"
        },
        "id": "u7uFqjOmiCcG",
        "outputId": "1ed140c8-5ab7-4c5b-ed87-7d73314de8f3"
      },
      "source": [
        "x_vals[np.argmax(y_vals)]"
      ],
      "execution_count": null,
      "outputs": [
        {
          "output_type": "execute_result",
          "data": {
            "text/plain": [
              "0.09999999999999999"
            ]
          },
          "metadata": {
            "tags": []
          },
          "execution_count": 169
        }
      ]
    }
  ]
}